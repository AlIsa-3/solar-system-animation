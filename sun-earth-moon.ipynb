{
 "cells": [
  {
   "cell_type": "markdown",
   "metadata": {},
   "source": [
    "# Earth-Moon-Sun Orbit simulation"
   ]
  },
  {
   "cell_type": "markdown",
   "metadata": {},
   "source": [
    "##### Imports"
   ]
  },
  {
   "cell_type": "code",
   "execution_count": 11,
   "metadata": {},
   "outputs": [],
   "source": [
    "import numpy as np\n",
    "import matplotlib.pyplot as plt\n",
    "import celluloid as c"
   ]
  },
  {
   "cell_type": "markdown",
   "metadata": {},
   "source": [
    "## Define Scaling"
   ]
  },
  {
   "cell_type": "code",
   "execution_count": 12,
   "metadata": {},
   "outputs": [],
   "source": [
    "SCALING = 0.5 # How many AU per 1 on graph"
   ]
  },
  {
   "cell_type": "markdown",
   "metadata": {},
   "source": [
    "## Define Constants"
   ]
  },
  {
   "cell_type": "code",
   "execution_count": 13,
   "metadata": {},
   "outputs": [],
   "source": [
    "EARTH_MASS = 5.97e24 #kg\n",
    "EARTH_RADIUS = 6400e3 # Radius in m\n",
    "\n",
    "SOLAR_MASS = 1.989e30 #kg\n",
    "SOLAR_RADIUS = 696340e3 # Radius in m\n",
    "\n",
    "MOON_MASS = 7.348e22 # Approximate Mass of Moon [kg]\n",
    "MOON_RADIUS = 1737.4e3 # Moon Radius in m"
   ]
  },
  {
   "cell_type": "markdown",
   "metadata": {},
   "source": [
    "## Planet Class"
   ]
  },
  {
   "cell_type": "code",
   "execution_count": 14,
   "metadata": {},
   "outputs": [],
   "source": [
    "class Planet():\n",
    "    def __init__(self,mass,radius,position:tuple[float,0]):\n",
    "\n",
    "        self.G = 6.67e-11\n",
    "\n",
    "        # Masses\n",
    "        self.SunMass = SOLAR_MASS\n",
    "\n",
    "\n",
    "        # Planet Parameters\n",
    "        self.mass = mass\n",
    "        self.radius = radius\n",
    "        self.position = np.array(position,dtype=np.float64) #position in AU (x,y)\n",
    "        self.current_velocity = np.array([0,0],dtype=np.float64)\n",
    "\n",
    "\n",
    "        self.position_magnitude = 0\n",
    "        self.current_acceleration = 0\n",
    "        self.gravitational_force = 0\n",
    "\n",
    "        # Calculate the Initial Unit Vector\n",
    "        self.scaling()\n",
    "        self.update_position_mag()\n",
    "        self.update_unit_vector()\n",
    "        self.current_velocity = np.array([0,np.sqrt(self.G*self.SunMass/self.r)]) # Sets an Initial Velocity\n",
    "\n",
    "\n",
    "    def scaling(self):\n",
    "        \"\"\"Scales values such that mass is in earth masses\n",
    "           position in AU\n",
    "           time in Days\"\"\"\n",
    "        self.mass = self.mass / EARTH_MASS\n",
    "        self.SunMass = self.SunMass / EARTH_MASS\n",
    "\n",
    "\n",
    "        AU = 1.5e11 * SCALING\n",
    "\n",
    "        self.G = self.G * (((86400**2) * (EARTH_MASS)) / ((AU)**3))\n",
    "\n",
    "    def update_position_mag(self):\n",
    "        self.r = np.linalg.norm(self.position)\n",
    "\n",
    "    def update_unit_vector(self):\n",
    "        \"\"\"Calculates the position unit vector\"\"\"\n",
    "\n",
    "        self.r_hat = self.position/self.r\n",
    "\n",
    "    def calculate_gravitational_force(self,Mass):\n",
    "\n",
    "        gravitational_force =  (- (self.G * self.mass * Mass) / ((self.r)**2)) * self.r_hat\n",
    "        self.gravitational_force += gravitational_force\n",
    "\n",
    "        return gravitational_force\n",
    "\n",
    "    def velocity(self,time_step): # Time step in Days\n",
    "        \"\"\"Gives the velocity vector for a circular orbit\"\"\"\n",
    "        self.current_acceleration = self.gravitational_force / self.mass # Acceleration in AU/Day^2\n",
    "\n",
    "        self.current_velocity += (self.current_acceleration * time_step) # Velocity in AU/Day\n",
    "\n",
    "        return self.current_velocity\n",
    "\n",
    "    def update_position(self,time_step):\n",
    "        self.position += (self.current_velocity * time_step)\n",
    "        self.update_position_mag()\n",
    "        self.update_unit_vector()\n",
    "\n",
    "        self.gravitational_force = 0 # Resets Gravitational force for next calculation "
   ]
  },
  {
   "cell_type": "markdown",
   "metadata": {},
   "source": [
    "### Running the Simulation"
   ]
  },
  {
   "cell_type": "markdown",
   "metadata": {},
   "source": [
    "#### Define Objects and calculated positions over course of N orbits"
   ]
  },
  {
   "cell_type": "code",
   "execution_count": 15,
   "metadata": {},
   "outputs": [
    {
     "name": "stderr",
     "output_type": "stream",
     "text": [
      "/var/folders/0y/2j4r476n4859g4w7hklsh2r80000gn/T/ipykernel_49532/1881071653.py:46: RuntimeWarning: invalid value encountered in divide\n",
      "  self.r_hat = self.position/self.r\n",
      "/var/folders/0y/2j4r476n4859g4w7hklsh2r80000gn/T/ipykernel_49532/1881071653.py:25: RuntimeWarning: divide by zero encountered in scalar divide\n",
      "  self.current_velocity = np.array([0,np.sqrt(self.G*self.SunMass/self.r)]) # Sets an Initial Velocity\n"
     ]
    }
   ],
   "source": [
    "Earth = Planet(EARTH_MASS,EARTH_RADIUS,(1/SCALING,0/SCALING)) # Earth starts at a distance of 1 AU\n",
    "Sun = Planet(SOLAR_MASS,SOLAR_RADIUS,(0/SCALING,0/SCALING))\n",
    "Moon = Planet(MOON_MASS,MOON_RADIUS,((1+0.00256)/SCALING,0/SCALING)) # Moon Orbit Radius approx 0.00256 AU\n",
    "\n",
    "time_step = 1 #Time Step of 1 Day --> 365 steps for 1 orbit\n",
    "\n",
    "Earth_positions = np.ones((365,2))\n",
    "Moon_Positions = np.ones((365,2))\n",
    "\n",
    "for i in range(365):\n",
    "    Earth_positions[i] = Earth.position\n",
    "    Moon_Positions[i] = Moon.position\n",
    "\n",
    "    # Calculate and sum gravitational contributions of all other bodies\n",
    "    Earth.calculate_gravitational_force(Sun.mass)\n",
    "    Earth.calculate_gravitational_force(Moon.mass)\n",
    "\n",
    "    Moon.calculate_gravitational_force(Earth.mass)\n",
    "    Moon.calculate_gravitational_force(Sun.mass)\n",
    "\n",
    "\n",
    "    # Update velocities for bodies\n",
    "    Earth.velocity(time_step)\n",
    "    Moon.velocity(time_step)\n",
    "\n",
    "    # Update Positions for bodies\n",
    "    Earth.update_position(time_step)\n",
    "    Moon.update_position(time_step)\n"
   ]
  },
  {
   "cell_type": "markdown",
   "metadata": {},
   "source": [
    "#### Plot and Create Animation"
   ]
  },
  {
   "cell_type": "code",
   "execution_count": 16,
   "metadata": {},
   "outputs": [
    {
     "data": {
      "image/png": "[encoded data removed]",
      "text/plain": [
       "<Figure size 640x480 with 1 Axes>"
      ]
     },
     "metadata": {},
     "output_type": "display_data"
    },
    {
     "name": "stderr",
     "output_type": "stream",
     "text": [
      "MovieWriter ffmpeg unavailable; using Pillow instead.\n"
     ]
    }
   ],
   "source": [
    "fig = plt.figure()\n",
    "plt.xlim(-2.2,2.2)\n",
    "plt.ylim(-2.2,2.2)\n",
    "cam = c.Camera(fig)\n",
    "\n",
    "for i in range(Earth_positions.shape[0]):\n",
    "\n",
    "    plt.scatter(Sun.position[0],Sun.position[1],s=25,c=\"orange\")\n",
    "    plt.scatter(Earth_positions[i,0],Earth_positions[i,1],s=5,c=\"blue\")\n",
    "    plt.scatter(Moon_Positions[i,0],Moon_Positions[i,1],s=1,c=\"gray\")\n",
    "    \n",
    "    cam.snap()\n",
    "plt.show()\n",
    "anim = cam.animate(interval=1,repeat=True)\n",
    "anim.save(\"Orbit_Animation.gif\",fps=60)"
   ]
  }
 ],
 "metadata": {
  "kernelspec": {
   "display_name": "solar_orbits",
   "language": "python",
   "name": "python3"
  },
  "language_info": {
   "codemirror_mode": {
    "name": "ipython",
    "version": 3
   },
   "file_extension": ".py",
   "mimetype": "text/x-python",
   "name": "python",
   "nbconvert_exporter": "python",
   "pygments_lexer": "ipython3",
   "version": "3.11.1"
  }
 },
 "nbformat": 4,
 "nbformat_minor": 2
}
